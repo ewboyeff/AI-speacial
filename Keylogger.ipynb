{
  "nbformat": 4,
  "nbformat_minor": 0,
  "metadata": {
    "colab": {
      "provenance": [],
      "gpuType": "T4",
      "authorship_tag": "ABX9TyP0TWHGAZI8CWmyPElid7Pt",
      "include_colab_link": true
    },
    "kernelspec": {
      "name": "python3",
      "display_name": "Python 3"
    },
    "language_info": {
      "name": "python"
    },
    "accelerator": "GPU"
  },
  "cells": [
    {
      "cell_type": "markdown",
      "metadata": {
        "id": "view-in-github",
        "colab_type": "text"
      },
      "source": [
        "<a href=\"https://colab.research.google.com/github/ewboyeff/AI-speacial/blob/main/Keylogger.ipynb\" target=\"_parent\"><img src=\"https://colab.research.google.com/assets/colab-badge.svg\" alt=\"Open In Colab\"/></a>"
      ]
    },
    {
      "cell_type": "code",
      "execution_count": 3,
      "metadata": {
        "id": "YRJf8wCqNKB5"
      },
      "outputs": [],
      "source": [
        "# 1. Kerakli kutubxonalar\n",
        "import pandas as pd\n",
        "import numpy as np\n",
        "import matplotlib.pyplot as plt\n",
        "import seaborn as sns\n",
        "from sklearn.model_selection import train_test_split\n",
        "from sklearn.preprocessing import StandardScaler, LabelEncoder\n",
        "from sklearn.metrics import classification_report, roc_curve, auc\n",
        "from sklearn.feature_selection import SelectKBest, f_classif\n",
        "from xgboost import XGBClassifier\n",
        "from imblearn.under_sampling import RandomUnderSampler\n",
        "import tensorflow as tf\n",
        "from tensorflow.keras.models import Sequential\n",
        "from tensorflow.keras.layers import Dense, Dropout\n",
        "import os\n",
        "import json\n",
        "import warnings\n",
        "warnings.filterwarnings('ignore')"
      ]
    },
    {
      "cell_type": "code",
      "source": [
        "# 2. Kaggle API ni sozlash\n",
        "print(\"Kaggle API ni sozlash...\")\n",
        "os.makedirs('/root/.kaggle', exist_ok=True)\n",
        "kaggle_api = {\n",
        "    \"username\": \"dilshod2006\",\n",
        "    \"key\": \"9b2b91cc9ba512a5e79836df40738c5b\"\n",
        "}\n",
        "with open('/root/.kaggle/kaggle.json', 'w') as file:\n",
        "    json.dump(kaggle_api, file)\n",
        "!chmod 600 /root/.kaggle/kaggle.json"
      ],
      "metadata": {
        "id": "RvklRE2mNZ1H",
        "outputId": "8012bab6-6384-491a-dd7d-87d7c4658db5",
        "colab": {
          "base_uri": "https://localhost:8080/"
        }
      },
      "execution_count": 4,
      "outputs": [
        {
          "output_type": "stream",
          "name": "stdout",
          "text": [
            "Kaggle API ni sozlash...\n"
          ]
        }
      ]
    },
    {
      "cell_type": "code",
      "source": [
        "# 3. Ma'lumotlarni yuklash\n",
        "print(\"Ma'lumotlarni yuklash...\")\n",
        "try:\n",
        "    !kaggle datasets download -d subhajournal/keylogger-detection -p /content --unzip\n",
        "    dataset = pd.read_csv(\"/content/Keylogger_Detection.csv\")\n",
        "except Exception as e:\n",
        "    raise Exception(f\"Ma'lumotlarni yuklashda xatolik: {e}. Iltimos, Kaggle API kaliti to'g'ri ekanligini va internet aloqasini tekshiring.\")"
      ],
      "metadata": {
        "id": "WcFy0id6NeVW",
        "colab": {
          "base_uri": "https://localhost:8080/"
        },
        "outputId": "0273fc22-0f09-4024-cc92-25914847e607"
      },
      "execution_count": 11,
      "outputs": [
        {
          "output_type": "stream",
          "name": "stdout",
          "text": [
            "Ma'lumotlarni yuklash...\n",
            "Dataset URL: https://www.kaggle.com/datasets/subhajournal/keylogger-detection\n",
            "License(s): GNU Free Documentation License 1.3\n",
            "Downloading keylogger-detection.zip to /content\n",
            "  0% 0.00/79.4M [00:00<?, ?B/s]\n",
            "100% 79.4M/79.4M [00:00<00:00, 1.32GB/s]\n"
          ]
        }
      ]
    },
    {
      "cell_type": "code",
      "source": [
        "df = dataset.copy()\n",
        "# Keraksiz ustunlarni o'chirish\n",
        "drop_columns = ['Unnamed: 0', 'Flow ID', ' Source IP', ' Destination IP', ' Timestamp']\n",
        "df = df.drop(columns=[col for col in drop_columns if col in df.columns], errors='ignore')\n",
        "df = df.dropna().drop_duplicates().reset_index(drop=True)"
      ],
      "metadata": {
        "id": "XUlCh22EllS4"
      },
      "execution_count": 12,
      "outputs": []
    },
    {
      "cell_type": "code",
      "source": [
        "# Manfiy qiymatlarni to'g'rilash\n",
        "non_neg_cols = [' Flow Duration', ' Total Fwd Packets', ' Total Backward Packets']\n",
        "for col in non_neg_cols:\n",
        "    if col in df.columns:\n",
        "        df[col] = df[col].clip(lower=0)"
      ],
      "metadata": {
        "id": "XXDe3JMvl17X"
      },
      "execution_count": 13,
      "outputs": []
    },
    {
      "cell_type": "code",
      "source": [
        "# 5. Target encoding\n",
        "le = LabelEncoder()\n",
        "if 'Class' in df.columns:\n",
        "    df['Class'] = le.fit_transform(df['Class'])\n",
        "    print(f\"Sinflar: {le.classes_}\")\n",
        "else:\n",
        "    raise KeyError(\"Datasetda 'Class' ustuni topilmadi.\")"
      ],
      "metadata": {
        "colab": {
          "base_uri": "https://localhost:8080/"
        },
        "id": "JAClHk7ml5Nn",
        "outputId": "c2cf679c-234e-4303-c13f-fada54bf31f8"
      },
      "execution_count": 14,
      "outputs": [
        {
          "output_type": "stream",
          "name": "stdout",
          "text": [
            "Sinflar: ['Benign' 'Keylogger']\n"
          ]
        }
      ]
    },
    {
      "cell_type": "code",
      "source": [
        "# 6. Yangi xususiyatlar yaratish\n",
        "# Ustun nomlarini datasetga moslashtirish\n",
        "fwd_packets_col = 'Total Length of Fwd Packets'\n",
        "bwd_packets_col = ' Total Length of Bwd Packets'\n",
        "if fwd_packets_col in df.columns and bwd_packets_col in df.columns:\n",
        "    df['packet_ratio'] = (df[' Total Fwd Packets'] + 1) / (df[' Total Backward Packets'] + 1)\n",
        "    df['byte_ratio'] = (df[fwd_packets_col] + 1) / (df[bwd_packets_col] + 1)\n",
        "else:\n",
        "    print(f\"Xatolik: {fwd_packets_col} yoki {bwd_packets_col} ustunlari topilmadi. Yangi xususiyatlar yaratilmadi.\")"
      ],
      "metadata": {
        "id": "TweurqBml7Cr"
      },
      "execution_count": 15,
      "outputs": []
    },
    {
      "cell_type": "code",
      "source": [
        "# 7. Ma'lumotlarni bo'lish\n",
        "X = df.drop('Class', axis=1)\n",
        "y = df['Class']\n",
        "X_train, X_test, y_train, y_test = train_test_split(X, y, test_size=0.25, random_state=101, stratify=y)"
      ],
      "metadata": {
        "id": "8lDzJwScmOWN"
      },
      "execution_count": 16,
      "outputs": []
    },
    {
      "cell_type": "code",
      "source": [
        "# 8. Muvozanatlash (undersampling)\n",
        "rus = RandomUnderSampler(random_state=101)\n",
        "X_train_bal, y_train_bal = rus.fit_resample(X_train, y_train)\n",
        "print(f\"Muvozanatlashdan keyin sinf taqsimoti: {np.bincount(y_train_bal)}\")"
      ],
      "metadata": {
        "colab": {
          "base_uri": "https://localhost:8080/"
        },
        "id": "ju8eCnsum8Mx",
        "outputId": "16efedec-e93f-4867-812b-d000b91b8cb6"
      },
      "execution_count": 17,
      "outputs": [
        {
          "output_type": "stream",
          "name": "stdout",
          "text": [
            "Muvozanatlashdan keyin sinf taqsimoti: [62137 62137]\n"
          ]
        }
      ]
    },
    {
      "cell_type": "code",
      "source": [
        "# 9. Xususiyatlarni tanlash\n",
        "selector = SelectKBest(score_func=f_classif, k=25)\n",
        "X_train_sel = selector.fit_transform(X_train_bal, y_train_bal)\n",
        "X_test_sel = selector.transform(X_test)\n",
        "selected_features = X.columns[selector.get_support()].tolist()\n",
        "print(f\"Tanlangan xususiyatlar: {selected_features}\")"
      ],
      "metadata": {
        "colab": {
          "base_uri": "https://localhost:8080/"
        },
        "id": "P4VFTjr5m_XB",
        "outputId": "c1a63aab-0d61-4c29-f91f-ce7a20d7bc7c"
      },
      "execution_count": 18,
      "outputs": [
        {
          "output_type": "stream",
          "name": "stdout",
          "text": [
            "Tanlangan xususiyatlar: [' Flow Duration', ' Fwd Packet Length Max', ' Fwd Packet Length Mean', ' Fwd Packet Length Std', ' Bwd Packet Length Min', ' Bwd Packet Length Std', ' Flow IAT Std', ' Flow IAT Max', ' Fwd IAT Std', 'Bwd IAT Total', ' Bwd IAT Std', ' Bwd IAT Max', ' Max Packet Length', ' Packet Length Std', ' PSH Flag Count', ' ACK Flag Count', ' URG Flag Count', ' Avg Fwd Segment Size', 'Init_Win_bytes_forward', 'Active Mean', ' Active Max', ' Active Min', 'Idle Mean', ' Idle Max', ' Idle Min']\n"
          ]
        }
      ]
    },
    {
      "cell_type": "code",
      "source": [
        "# 10. O'lchovlash\n",
        "scaler = StandardScaler()\n",
        "X_train_scaled = scaler.fit_transform(X_train_sel)\n",
        "X_test_scaled = scaler.transform(X_test_sel)"
      ],
      "metadata": {
        "id": "1HgHfKq4nFzZ"
      },
      "execution_count": 19,
      "outputs": []
    },
    {
      "cell_type": "code",
      "source": [
        "# 11. XGBoost modeli\n",
        "print(\"\\nXGBoost modelini o'qitish...\")\n",
        "xgb = XGBClassifier(n_estimators=100, learning_rate=0.1, max_depth=6, random_state=101, n_jobs=-1)\n",
        "xgb.fit(X_train_scaled, y_train_bal)\n",
        "y_pred_xgb = xgb.predict(X_test_scaled)\n",
        "y_pred_proba_xgb = xgb.predict_proba(X_test_scaled)[:, 1]\n",
        "\n",
        "print(\"\\nXGBoost natijalari:\")\n",
        "print(classification_report(y_test, y_pred_xgb))"
      ],
      "metadata": {
        "colab": {
          "base_uri": "https://localhost:8080/"
        },
        "id": "ySVpqVOTnIqC",
        "outputId": "9d162233-f13f-48c0-ddf6-d30a82faeb54"
      },
      "execution_count": 20,
      "outputs": [
        {
          "output_type": "stream",
          "name": "stdout",
          "text": [
            "\n",
            "XGBoost modelini o'qitish...\n",
            "\n",
            "XGBoost natijalari:\n",
            "              precision    recall  f1-score   support\n",
            "\n",
            "           0       0.73      0.67      0.70     29825\n",
            "           1       0.57      0.64      0.60     20713\n",
            "\n",
            "    accuracy                           0.66     50538\n",
            "   macro avg       0.65      0.65      0.65     50538\n",
            "weighted avg       0.66      0.66      0.66     50538\n",
            "\n"
          ]
        }
      ]
    },
    {
      "cell_type": "code",
      "source": [
        "# 12. Deep Learning modeli\n",
        "print(\"\\nChuqur o'rganish modelini o'qitish...\")\n",
        "def create_dl_model(input_dim):\n",
        "    model = Sequential([\n",
        "        Dense(64, activation='relu', input_dim=input_dim),\n",
        "        Dropout(0.3),\n",
        "        Dense(32, activation='relu'),\n",
        "        Dropout(0.2),\n",
        "        Dense(1, activation='sigmoid')\n",
        "    ])\n",
        "    model.compile(optimizer='adam', loss='binary_crossentropy', metrics=['accuracy'])\n",
        "    return model\n",
        "\n",
        "dl_model = create_dl_model(X_train_scaled.shape[1])\n",
        "dl_model.fit(\n",
        "    X_train_scaled, y_train_bal,\n",
        "    epochs=50, batch_size=32, validation_split=0.2,\n",
        "    callbacks=[tf.keras.callbacks.EarlyStopping(patience=5, restore_best_weights=True)],\n",
        "    verbose=0\n",
        ")\n",
        "\n",
        "y_pred_proba_dl = dl_model.predict(X_test_scaled, verbose=0)\n",
        "y_pred_dl = (y_pred_proba_dl > 0.5).astype(int).flatten()\n",
        "\n",
        "print(\"\\nDeep Learning natijalari:\")\n",
        "print(classification_report(y_test, y_pred_dl))"
      ],
      "metadata": {
        "colab": {
          "base_uri": "https://localhost:8080/"
        },
        "id": "qxNCy6gfnLQ0",
        "outputId": "695844b4-61df-4327-f51e-2d1627f075cd"
      },
      "execution_count": 21,
      "outputs": [
        {
          "output_type": "stream",
          "name": "stdout",
          "text": [
            "\n",
            "Chuqur o'rganish modelini o'qitish...\n",
            "\n",
            "Deep Learning natijalari:\n",
            "              precision    recall  f1-score   support\n",
            "\n",
            "           0       0.60      0.97      0.74     29825\n",
            "           1       0.63      0.06      0.12     20713\n",
            "\n",
            "    accuracy                           0.60     50538\n",
            "   macro avg       0.62      0.52      0.43     50538\n",
            "weighted avg       0.61      0.60      0.49     50538\n",
            "\n"
          ]
        }
      ]
    },
    {
      "cell_type": "code",
      "source": [
        "# 13. ROC egri chizig'i\n",
        "plt.figure(figsize=(8, 6))\n",
        "fpr_xgb, tpr_xgb, _ = roc_curve(y_test, y_pred_proba_xgb)\n",
        "fpr_dl, tpr_dl, _ = roc_curve(y_test, y_pred_proba_dl)\n",
        "plt.plot(fpr_xgb, tpr_xgb, label=f'XGBoost (AUC = {auc(fpr_xgb, tpr_xgb):.3f})')\n",
        "plt.plot(fpr_dl, tpr_dl, label=f'Deep Learning (AUC = {auc(fpr_dl, tpr_dl):.3f})')\n",
        "plt.plot([0, 1], [0, 1], 'k--')\n",
        "plt.xlabel('False Positive Rate')\n",
        "plt.ylabel('True Positive Rate')\n",
        "plt.title('ROC Egri Chizig\\'i')\n",
        "plt.legend()\n",
        "plt.savefig('roc_curve.png')"
      ],
      "metadata": {
        "colab": {
          "base_uri": "https://localhost:8080/",
          "height": 527
        },
        "id": "Vyzuf-8BnXNw",
        "outputId": "4b8e586c-603c-462f-e1a4-0f2925846b53"
      },
      "execution_count": 22,
      "outputs": [
        {
          "output_type": "display_data",
          "data": {
            "text/plain": [
              "<Figure size 800x600 with 1 Axes>"
            ],
            "image/png": "[encoded data removed]"
          },
          "metadata": {}
        }
      ]
    },
    {
      "cell_type": "code",
      "source": [
        "# 14. Eng yaxshi modelni saqlash\n",
        "best_auc = max(auc(fpr_xgb, tpr_xgb), auc(fpr_dl, tpr_dl))\n",
        "if best_auc == auc(fpr_xgb, tpr_xgb):\n",
        "    import joblib\n",
        "    joblib.dump(xgb, 'keylogger_model.pkl')\n",
        "    joblib.dump(scaler, 'scaler.pkl')\n",
        "    joblib.dump(selected_features, 'features.pkl')\n",
        "    print(\"XGBoost eng yaxshi model sifatida saqlandi\")\n",
        "else:\n",
        "    dl_model.save('keylogger_model.h5')\n",
        "    import joblib\n",
        "    joblib.dump(scaler, 'scaler.pkl')\n",
        "    joblib.dump(selected_features, 'features.pkl')\n",
        "    print(\"Deep Learning eng yaxshi model sifatida saqlandi\")\n",
        "\n",
        "print(\"Dastur muvaffaqiyatli yakunlandi!\")"
      ],
      "metadata": {
        "colab": {
          "base_uri": "https://localhost:8080/"
        },
        "id": "XcqLgUbPns-y",
        "outputId": "bd18e8ea-7b80-4729-9875-ec6263867b1e"
      },
      "execution_count": 23,
      "outputs": [
        {
          "output_type": "stream",
          "name": "stdout",
          "text": [
            "XGBoost eng yaxshi model sifatida saqlandi\n",
            "Dastur muvaffaqiyatli yakunlandi!\n"
          ]
        }
      ]
    },
    {
      "cell_type": "code",
      "source": [
        "from google.colab import files\n",
        "files.download('roc_curve.png')\n",
        "files.download('keylogger_model.pkl')  # yoki keylogger_model.h5\n",
        "files.download('scaler.pkl')\n",
        "files.download('features.pkl')"
      ],
      "metadata": {
        "colab": {
          "base_uri": "https://localhost:8080/",
          "height": 17
        },
        "id": "AcCA46-rn055",
        "outputId": "80b0d87b-2c46-4ec6-f7bb-88c6d4f58b39"
      },
      "execution_count": 24,
      "outputs": [
        {
          "output_type": "display_data",
          "data": {
            "text/plain": [
              "<IPython.core.display.Javascript object>"
            ],
            "application/javascript": [
              "\n",
              "    async function download(id, filename, size) {\n",
              "      if (!google.colab.kernel.accessAllowed) {\n",
              "        return;\n",
              "      }\n",
              "      const div = document.createElement('div');\n",
              "      const label = document.createElement('label');\n",
              "      label.textContent = `Downloading \"${filename}\": `;\n",
              "      div.appendChild(label);\n",
              "      const progress = document.createElement('progress');\n",
              "      progress.max = size;\n",
              "      div.appendChild(progress);\n",
              "      document.body.appendChild(div);\n",
              "\n",
              "      const buffers = [];\n",
              "      let downloaded = 0;\n",
              "\n",
              "      const channel = await google.colab.kernel.comms.open(id);\n",
              "      // Send a message to notify the kernel that we're ready.\n",
              "      channel.send({})\n",
              "\n",
              "      for await (const message of channel.messages) {\n",
              "        // Send a message to notify the kernel that we're ready.\n",
              "        channel.send({})\n",
              "        if (message.buffers) {\n",
              "          for (const buffer of message.buffers) {\n",
              "            buffers.push(buffer);\n",
              "            downloaded += buffer.byteLength;\n",
              "            progress.value = downloaded;\n",
              "          }\n",
              "        }\n",
              "      }\n",
              "      const blob = new Blob(buffers, {type: 'application/binary'});\n",
              "      const a = document.createElement('a');\n",
              "      a.href = window.URL.createObjectURL(blob);\n",
              "      a.download = filename;\n",
              "      div.appendChild(a);\n",
              "      a.click();\n",
              "      div.remove();\n",
              "    }\n",
              "  "
            ]
          },
          "metadata": {}
        },
        {
          "output_type": "display_data",
          "data": {
            "text/plain": [
              "<IPython.core.display.Javascript object>"
            ],
            "application/javascript": [
              "download(\"download_73fef727-2553-4711-aa06-f52a63dcff1d\", \"roc_curve.png\", 51557)"
            ]
          },
          "metadata": {}
        },
        {
          "output_type": "display_data",
          "data": {
            "text/plain": [
              "<IPython.core.display.Javascript object>"
            ],
            "application/javascript": [
              "\n",
              "    async function download(id, filename, size) {\n",
              "      if (!google.colab.kernel.accessAllowed) {\n",
              "        return;\n",
              "      }\n",
              "      const div = document.createElement('div');\n",
              "      const label = document.createElement('label');\n",
              "      label.textContent = `Downloading \"${filename}\": `;\n",
              "      div.appendChild(label);\n",
              "      const progress = document.createElement('progress');\n",
              "      progress.max = size;\n",
              "      div.appendChild(progress);\n",
              "      document.body.appendChild(div);\n",
              "\n",
              "      const buffers = [];\n",
              "      let downloaded = 0;\n",
              "\n",
              "      const channel = await google.colab.kernel.comms.open(id);\n",
              "      // Send a message to notify the kernel that we're ready.\n",
              "      channel.send({})\n",
              "\n",
              "      for await (const message of channel.messages) {\n",
              "        // Send a message to notify the kernel that we're ready.\n",
              "        channel.send({})\n",
              "        if (message.buffers) {\n",
              "          for (const buffer of message.buffers) {\n",
              "            buffers.push(buffer);\n",
              "            downloaded += buffer.byteLength;\n",
              "            progress.value = downloaded;\n",
              "          }\n",
              "        }\n",
              "      }\n",
              "      const blob = new Blob(buffers, {type: 'application/binary'});\n",
              "      const a = document.createElement('a');\n",
              "      a.href = window.URL.createObjectURL(blob);\n",
              "      a.download = filename;\n",
              "      div.appendChild(a);\n",
              "      a.click();\n",
              "      div.remove();\n",
              "    }\n",
              "  "
            ]
          },
          "metadata": {}
        },
        {
          "output_type": "display_data",
          "data": {
            "text/plain": [
              "<IPython.core.display.Javascript object>"
            ],
            "application/javascript": [
              "download(\"download_67c3aa8e-6efb-48c0-a65a-52371fee86cd\", \"keylogger_model.pkl\", 434797)"
            ]
          },
          "metadata": {}
        },
        {
          "output_type": "display_data",
          "data": {
            "text/plain": [
              "<IPython.core.display.Javascript object>"
            ],
            "application/javascript": [
              "\n",
              "    async function download(id, filename, size) {\n",
              "      if (!google.colab.kernel.accessAllowed) {\n",
              "        return;\n",
              "      }\n",
              "      const div = document.createElement('div');\n",
              "      const label = document.createElement('label');\n",
              "      label.textContent = `Downloading \"${filename}\": `;\n",
              "      div.appendChild(label);\n",
              "      const progress = document.createElement('progress');\n",
              "      progress.max = size;\n",
              "      div.appendChild(progress);\n",
              "      document.body.appendChild(div);\n",
              "\n",
              "      const buffers = [];\n",
              "      let downloaded = 0;\n",
              "\n",
              "      const channel = await google.colab.kernel.comms.open(id);\n",
              "      // Send a message to notify the kernel that we're ready.\n",
              "      channel.send({})\n",
              "\n",
              "      for await (const message of channel.messages) {\n",
              "        // Send a message to notify the kernel that we're ready.\n",
              "        channel.send({})\n",
              "        if (message.buffers) {\n",
              "          for (const buffer of message.buffers) {\n",
              "            buffers.push(buffer);\n",
              "            downloaded += buffer.byteLength;\n",
              "            progress.value = downloaded;\n",
              "          }\n",
              "        }\n",
              "      }\n",
              "      const blob = new Blob(buffers, {type: 'application/binary'});\n",
              "      const a = document.createElement('a');\n",
              "      a.href = window.URL.createObjectURL(blob);\n",
              "      a.download = filename;\n",
              "      div.appendChild(a);\n",
              "      a.click();\n",
              "      div.remove();\n",
              "    }\n",
              "  "
            ]
          },
          "metadata": {}
        },
        {
          "output_type": "display_data",
          "data": {
            "text/plain": [
              "<IPython.core.display.Javascript object>"
            ],
            "application/javascript": [
              "download(\"download_d271ba1b-350a-4ada-bff8-b4bb5a0f4668\", \"scaler.pkl\", 1199)"
            ]
          },
          "metadata": {}
        },
        {
          "output_type": "display_data",
          "data": {
            "text/plain": [
              "<IPython.core.display.Javascript object>"
            ],
            "application/javascript": [
              "\n",
              "    async function download(id, filename, size) {\n",
              "      if (!google.colab.kernel.accessAllowed) {\n",
              "        return;\n",
              "      }\n",
              "      const div = document.createElement('div');\n",
              "      const label = document.createElement('label');\n",
              "      label.textContent = `Downloading \"${filename}\": `;\n",
              "      div.appendChild(label);\n",
              "      const progress = document.createElement('progress');\n",
              "      progress.max = size;\n",
              "      div.appendChild(progress);\n",
              "      document.body.appendChild(div);\n",
              "\n",
              "      const buffers = [];\n",
              "      let downloaded = 0;\n",
              "\n",
              "      const channel = await google.colab.kernel.comms.open(id);\n",
              "      // Send a message to notify the kernel that we're ready.\n",
              "      channel.send({})\n",
              "\n",
              "      for await (const message of channel.messages) {\n",
              "        // Send a message to notify the kernel that we're ready.\n",
              "        channel.send({})\n",
              "        if (message.buffers) {\n",
              "          for (const buffer of message.buffers) {\n",
              "            buffers.push(buffer);\n",
              "            downloaded += buffer.byteLength;\n",
              "            progress.value = downloaded;\n",
              "          }\n",
              "        }\n",
              "      }\n",
              "      const blob = new Blob(buffers, {type: 'application/binary'});\n",
              "      const a = document.createElement('a');\n",
              "      a.href = window.URL.createObjectURL(blob);\n",
              "      a.download = filename;\n",
              "      div.appendChild(a);\n",
              "      a.click();\n",
              "      div.remove();\n",
              "    }\n",
              "  "
            ]
          },
          "metadata": {}
        },
        {
          "output_type": "display_data",
          "data": {
            "text/plain": [
              "<IPython.core.display.Javascript object>"
            ],
            "application/javascript": [
              "download(\"download_b2e56d37-32f9-4fb8-ada1-1731713bec5b\", \"features.pkl\", 475)"
            ]
          },
          "metadata": {}
        }
      ]
    },
    {
      "cell_type": "code",
      "source": [],
      "metadata": {
        "id": "NDVxRv3Cor-S"
      },
      "execution_count": null,
      "outputs": []
    }
  ]
}